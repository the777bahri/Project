{
  "nbformat": 4,
  "nbformat_minor": 0,
  "metadata": {
    "colab": {
      "provenance": [],
      "gpuType": "T4"
    },
    "kernelspec": {
      "name": "python3",
      "display_name": "Python 3"
    },
    "language_info": {
      "name": "python"
    },
    "accelerator": "GPU"
  },
  "cells": [
    {
      "cell_type": "markdown",
      "source": [
        "# **THE CODE WORKS ON  MY LOCAL MACHINE / LAPTOP NO SPECIAL ENVS**"
      ],
      "metadata": {
        "id": "JCiFolBsM_OA"
      }
    },
    {
      "cell_type": "markdown",
      "source": [
        "# **Mount Google Drive**"
      ],
      "metadata": {
        "id": "LjOQfN77Ebpc"
      }
    },
    {
      "cell_type": "code",
      "execution_count": 1,
      "metadata": {
        "colab": {
          "base_uri": "https://localhost:8080/"
        },
        "id": "kmmKXFeJEFbd",
        "outputId": "0f6a2e1f-1f82-4dc3-8ff1-194d3fde3593"
      },
      "outputs": [
        {
          "output_type": "stream",
          "name": "stdout",
          "text": [
            "Mounted at /content/drive\n"
          ]
        }
      ],
      "source": [
        "from google.colab import drive\n",
        "drive.mount('/content/drive')"
      ]
    },
    {
      "cell_type": "markdown",
      "source": [
        "# **Add Path To Current Directory**"
      ],
      "metadata": {
        "id": "rBlG9yNCErxS"
      }
    },
    {
      "cell_type": "code",
      "source": [
        "cd /content/drive/MyDrive/Spring 2024/Reinforcement Learning /Project/FIFA 25/dm_control"
      ],
      "metadata": {
        "colab": {
          "base_uri": "https://localhost:8080/"
        },
        "id": "lZF669MqEYax",
        "outputId": "3a9ff415-7a42-4f83-e8a9-8bfb257e1bde"
      },
      "execution_count": 2,
      "outputs": [
        {
          "output_type": "stream",
          "name": "stdout",
          "text": [
            "/content/drive/MyDrive/Spring 2024/Reinforcement Learning /Project/FIFA 25/dm_control\n"
          ]
        }
      ]
    },
    {
      "cell_type": "markdown",
      "source": [
        "# **Show What Is In The Current Folder**"
      ],
      "metadata": {
        "id": "Cj5RHL_GEznV"
      }
    },
    {
      "cell_type": "code",
      "source": [
        "ls"
      ],
      "metadata": {
        "colab": {
          "base_uri": "https://localhost:8080/"
        },
        "id": "4_5lqt0eEplD",
        "outputId": "189089f3-d89a-4548-de97-bd199c5ad81f"
      },
      "execution_count": 3,
      "outputs": [
        {
          "output_type": "stream",
          "name": "stdout",
          "text": [
            "CODE.docx              fifa.py               soccer_training4.mp4\n",
            "environment_names.txt  soccer_training2.mp4  soccer_training5.mp4\n",
            "fifa_1..ipynb          soccer_training3.mp4  soccer_training.mp4\n"
          ]
        }
      ]
    },
    {
      "cell_type": "markdown",
      "source": [
        "# **Pip Install The Libraries**"
      ],
      "metadata": {
        "id": "rQn6wYhRE-jd"
      }
    },
    {
      "cell_type": "code",
      "source": [
        "!pip install dm_control\n"
      ],
      "metadata": {
        "colab": {
          "base_uri": "https://localhost:8080/"
        },
        "id": "0ri6U1W1FE8S",
        "outputId": "45ab3f9a-b352-48d8-f3dd-8c2ccfa4f6b1"
      },
      "execution_count": 4,
      "outputs": [
        {
          "output_type": "stream",
          "name": "stdout",
          "text": [
            "Requirement already satisfied: dm_control in /usr/local/lib/python3.10/dist-packages (1.0.22)\n",
            "Requirement already satisfied: absl-py>=0.7.0 in /usr/local/lib/python3.10/dist-packages (from dm_control) (1.4.0)\n",
            "Requirement already satisfied: dm-env in /usr/local/lib/python3.10/dist-packages (from dm_control) (1.6)\n",
            "Requirement already satisfied: dm-tree!=0.1.2 in /usr/local/lib/python3.10/dist-packages (from dm_control) (0.1.8)\n",
            "Requirement already satisfied: glfw in /usr/local/lib/python3.10/dist-packages (from dm_control) (2.7.0)\n",
            "Requirement already satisfied: labmaze in /usr/local/lib/python3.10/dist-packages (from dm_control) (1.0.6)\n",
            "Requirement already satisfied: lxml in /usr/local/lib/python3.10/dist-packages (from dm_control) (4.9.4)\n",
            "Requirement already satisfied: mujoco>=3.2.1 in /usr/local/lib/python3.10/dist-packages (from dm_control) (3.2.2)\n",
            "Requirement already satisfied: numpy>=1.9.0 in /usr/local/lib/python3.10/dist-packages (from dm_control) (1.26.4)\n",
            "Requirement already satisfied: protobuf>=3.19.4 in /usr/local/lib/python3.10/dist-packages (from dm_control) (3.20.3)\n",
            "Requirement already satisfied: pyopengl>=3.1.4 in /usr/local/lib/python3.10/dist-packages (from dm_control) (3.1.7)\n",
            "Requirement already satisfied: pyparsing>=3.0.0 in /usr/local/lib/python3.10/dist-packages (from dm_control) (3.1.4)\n",
            "Requirement already satisfied: requests in /usr/local/lib/python3.10/dist-packages (from dm_control) (2.32.3)\n",
            "Requirement already satisfied: setuptools!=50.0.0 in /usr/local/lib/python3.10/dist-packages (from dm_control) (71.0.4)\n",
            "Requirement already satisfied: scipy in /usr/local/lib/python3.10/dist-packages (from dm_control) (1.13.1)\n",
            "Requirement already satisfied: tqdm in /usr/local/lib/python3.10/dist-packages (from dm_control) (4.66.5)\n",
            "Requirement already satisfied: etils[epath] in /usr/local/lib/python3.10/dist-packages (from mujoco>=3.2.1->dm_control) (1.9.4)\n",
            "Requirement already satisfied: charset-normalizer<4,>=2 in /usr/local/lib/python3.10/dist-packages (from requests->dm_control) (3.3.2)\n",
            "Requirement already satisfied: idna<4,>=2.5 in /usr/local/lib/python3.10/dist-packages (from requests->dm_control) (3.8)\n",
            "Requirement already satisfied: urllib3<3,>=1.21.1 in /usr/local/lib/python3.10/dist-packages (from requests->dm_control) (2.0.7)\n",
            "Requirement already satisfied: certifi>=2017.4.17 in /usr/local/lib/python3.10/dist-packages (from requests->dm_control) (2024.8.30)\n",
            "Requirement already satisfied: fsspec in /usr/local/lib/python3.10/dist-packages (from etils[epath]->mujoco>=3.2.1->dm_control) (2024.6.1)\n",
            "Requirement already satisfied: importlib_resources in /usr/local/lib/python3.10/dist-packages (from etils[epath]->mujoco>=3.2.1->dm_control) (6.4.5)\n",
            "Requirement already satisfied: typing_extensions in /usr/local/lib/python3.10/dist-packages (from etils[epath]->mujoco>=3.2.1->dm_control) (4.12.2)\n",
            "Requirement already satisfied: zipp in /usr/local/lib/python3.10/dist-packages (from etils[epath]->mujoco>=3.2.1->dm_control) (3.20.1)\n"
          ]
        }
      ]
    },
    {
      "cell_type": "markdown",
      "source": [
        "# **Can Someone Search the Bellow Libraries**\n",
        "\n",
        "!pip install dm_control[tf]\n",
        "\n",
        "!pip install git+https://github.com/google-deepmind/dm_control.git"
      ],
      "metadata": {
        "id": "ruva0cuiFX_L"
      }
    },
    {
      "cell_type": "markdown",
      "source": [
        "# **Initilize and Call the Modules**"
      ],
      "metadata": {
        "id": "as7WFZ4oFm4i"
      }
    },
    {
      "cell_type": "code",
      "source": [
        "import os\n",
        "import numpy as np\n",
        "from dm_control.locomotion import soccer as dm_soccer\n",
        "from dm_control.locomotion.soccer import camera\n",
        "from dm_control.locomotion.soccer import soccer_ball\n",
        "import imageio\n"
      ],
      "metadata": {
        "colab": {
          "base_uri": "https://localhost:8080/"
        },
        "id": "uD1FcP1OFgbr",
        "outputId": "98eac0f7-44ba-4713-9a6c-ffa5a8f36626"
      },
      "execution_count": 5,
      "outputs": [
        {
          "output_type": "stream",
          "name": "stderr",
          "text": [
            "/usr/local/lib/python3.10/dist-packages/glfw/__init__.py:914: GLFWError: (65544) b'X11: The DISPLAY environment variable is missing'\n",
            "  warnings.warn(message, GLFWError)\n"
          ]
        }
      ]
    },
    {
      "cell_type": "markdown",
      "source": [
        "# **CPU OR GPU**\n",
        "\n",
        "Instead of setting MUJOCO_GL to \"glfw\", which is used for software rendering, you can set it to \"egl\" or \"gl\", which are OpenGL backends optimized for GPU rendering.\n",
        "\n",
        "EGL is a good choice if you're running the code on a server or in an environment without a display (headless).\n",
        "\n",
        "GL is a suitable choice if you're running the code on a desktop or a workstation with a display"
      ],
      "metadata": {
        "id": "v3OJU0mZGQGh"
      }
    },
    {
      "cell_type": "code",
      "source": [
        "# Configure MuJoCo for software rendering (No GPU required)\n",
        "os.environ[\"MUJOCO_GL\"] = \"glfw\""
      ],
      "metadata": {
        "colab": {
          "base_uri": "https://localhost:8080/"
        },
        "id": "fJNlJVuHF1_I",
        "outputId": "9ac5d13f-5417-41b1-cc26-db5f8721b422"
      },
      "execution_count": 6,
      "outputs": [
        {
          "output_type": "stream",
          "name": "stderr",
          "text": [
            "/usr/local/lib/python3.10/dist-packages/ipykernel/ipkernel.py:283: DeprecationWarning: `should_run_async` will not call `transform_cell` automatically in the future. Please pass the result to `transformed_cell` argument and any exception that happen during thetransform in `preprocessing_exc_tuple` in IPython 7.17 and above.\n",
            "  and should_run_async(code)\n"
          ]
        }
      ]
    },
    {
      "cell_type": "markdown",
      "source": [
        "# **Explanation of the SoccerEnvironment Class**\n",
        "\n",
        "The SoccerEnvironment class is designed to set up and simulate a soccer environment using the dm_control library. This class handles various tasks such as initializing the environment, setting up entities like soccer players and the soccer ball, and managing interactions between these entities during the simulation. The class provides several methods to control the simulation's behavior, step through the environment, and retrieve relevant data. Below is a detailed explanation of each section and method within the class.\n",
        "\n",
        "#1. Initialization (__init__ Method)\n",
        "\n",
        "The __init__ method is the constructor for the SoccerEnvironment class. It sets up the initial state of the soccer environment, defines its parameters, and initializes the entities involved in the simulation:\n",
        "\n",
        "Environment Setup: The environment is initialized by calling dm_soccer.load() with specific parameters:\n",
        "\n",
        "team_size=2: Configures the environment with two teams, each containing two players.\n",
        "\n",
        "time_limit=10.0: Sets the time limit for each episode to 10 seconds.\n",
        "\n",
        "disable_walker_contacts=False: Ensures that contact between walkers (players) is enabled.\n",
        "\n",
        "enable_field_box=True: Enables the field boundaries.\n",
        "terminate_on_goal=False: Keeps the simulation running even if a goal is scored.\n",
        "\n",
        "walker_type=dm_soccer.WalkerType.HUMANOID: Specifies the type of player models used (in this case, humanoid).\n",
        "\n",
        "Action Specifications: Retrieves the action specifications (self.env.action_spec()) which define the possible actions the agents (players) can take in the environment.\n",
        "\n",
        "Environment Reset: Resets the environment to its initial state by calling self.env.reset(), which sets the initial timestep.\n",
        "\n",
        "Soccer Ball Initialization: Creates a soccer ball entity using soccer_ball.regulation_soccer_ball(), which is a regulation-size soccer ball.\n",
        "\n",
        "Adding Soccer Ball to Environment: Adds the soccer ball to the environment using self.env.task.arena.add_free_entity(self.soccer_ball).\n",
        "\n",
        "Random State for Initialization: Creates a random state (random_state) to be used for initializing the environment.\n",
        "\n",
        "Compile Ball with Environment Physics: Compiles the soccer ball with the environment's physics using self.soccer_ball.after_compile(self.env.physics, random_state).\n",
        "\n",
        "Player Registration: Calls the register_players() method to register players (walkers) with the soccer ball.\n",
        "\n",
        "#2. Registering Players (register_players Method)\n",
        "\n",
        "The register_players method is responsible for associating the players (walkers) in the environment with the soccer ball, enabling them to interact with it.\n",
        "\n",
        "Iterating Through Entities: Uses self.env.task.iter_entities() to iterate over all entities present in the environment.\n",
        "\n",
        "Checking for Players: For each entity, checks if it is a player (walker) by looking for the walker_id attribute or ensuring the entity's class name starts with \"walker\".\n",
        "\n",
        "Registering Players: Calls self.soccer_ball.register_player(entity) to register the identified players with the soccer ball.\n",
        "\n",
        "#3. Stepping Through the Environment (step Method)\n",
        "\n",
        "The step method advances the simulation by one timestep using the provided actions.\n",
        "\n",
        "Executing Actions: Takes a list of actions as input and applies them to the environment using self.env.step(actions).\n",
        "\n",
        "Updating Timestep: Updates the current state of the environment (self.timestep) with the new state after stepping through with the given actions.\n",
        "\n",
        "Returning New Timestep: Returns the updated timestep, which contains the new state of the environment after the actions have been applied.\n",
        "\n",
        "#4. Retrieving Positions (get_positions Method)\n",
        "\n",
        "The get_positions method retrieves the positions of all entities, including players and the soccer ball, in the environment.\n",
        "\n",
        "Extracting Positions: Uses a list comprehension to iterate over all body IDs (range(self.env.physics.model.nbody)) and retrieves their positions (self.env.physics.data.xpos[body_id]).\n",
        "\n",
        "Returning Positions: Returns a list of positions representing the current locations of all entities in the environment.\n",
        "\n",
        "#5. Getting Physics Object (get_physics Method)\n",
        "\n",
        "The get_physics method provides access to the physics object of the environment.\n",
        "\n",
        "Returning Physics Object: Returns the physics object (self.env.physics), which contains detailed information about the physical properties and dynamics of the environment."
      ],
      "metadata": {
        "id": "Z5gvbdbHG6d5"
      }
    },
    {
      "cell_type": "code",
      "source": [
        "class SoccerEnvironment:\n",
        "    \"\"\"Class to handle the soccer environment setup and simulation.\"\"\"\n",
        "\n",
        "    def __init__(self):\n",
        "        # Initialize environment\n",
        "        self.env = dm_soccer.load(\n",
        "            team_size=2,\n",
        "            time_limit=10.0,\n",
        "            disable_walker_contacts=False,\n",
        "            enable_field_box=True,\n",
        "            terminate_on_goal=False,\n",
        "            walker_type=dm_soccer.WalkerType.HUMANOID\n",
        "        )\n",
        "        self.action_specs = self.env.action_spec()\n",
        "        self.timestep = self.env.reset()\n",
        "\n",
        "        # Initialize the soccer ball\n",
        "        self.soccer_ball = soccer_ball.regulation_soccer_ball()\n",
        "\n",
        "        # Add soccer ball to the environment\n",
        "        self.env.task.arena.add_free_entity(self.soccer_ball)\n",
        "\n",
        "        # Create a random state for initialization\n",
        "        random_state = np.random.RandomState(42)\n",
        "\n",
        "        # Compile ball with environment physics\n",
        "        self.soccer_ball.after_compile(self.env.physics, random_state)\n",
        "\n",
        "        # Register players with the soccer ball\n",
        "        self.register_players()\n",
        "\n",
        "    def register_players(self):\n",
        "        \"\"\"Register players (walkers) with the soccer ball.\"\"\"\n",
        "        # Use `iter_entities()` to access all entities in the environment\n",
        "        for entity in self.env.task.iter_entities():\n",
        "            # Check if the entity is a player (walker) using its type or attributes\n",
        "            if hasattr(entity, 'walker_id') or entity.__class__.__name__.lower().startswith(\"walker\"):\n",
        "                self.soccer_ball.register_player(entity)\n",
        "\n",
        "    def step(self, actions):\n",
        "        \"\"\"Step through the environment with given actions.\"\"\"\n",
        "        self.timestep = self.env.step(actions)\n",
        "        return self.timestep\n",
        "\n",
        "    def get_positions(self):\n",
        "        \"\"\"Get positions of entities (players and ball) in the environment.\"\"\"\n",
        "        positions = [self.env.physics.data.xpos[body_id] for body_id in range(self.env.physics.model.nbody)]\n",
        "        return positions\n",
        "\n",
        "    def get_physics(self):\n",
        "        \"\"\"Get the physics object from the environment.\"\"\"\n",
        "        return self.env.physics"
      ],
      "metadata": {
        "colab": {
          "base_uri": "https://localhost:8080/"
        },
        "id": "riWFAu38Ga0l",
        "outputId": "e9c6d026-47c7-4e3a-94ed-25bdeab980f2"
      },
      "execution_count": 7,
      "outputs": [
        {
          "output_type": "stream",
          "name": "stderr",
          "text": [
            "/usr/local/lib/python3.10/dist-packages/ipykernel/ipkernel.py:283: DeprecationWarning: `should_run_async` will not call `transform_cell` automatically in the future. Please pass the result to `transformed_cell` argument and any exception that happen during thetransform in `preprocessing_exc_tuple` in IPython 7.17 and above.\n",
            "  and should_run_async(code)\n"
          ]
        }
      ]
    },
    {
      "cell_type": "markdown",
      "source": [],
      "metadata": {
        "id": "Wz0RVZ7PHkEZ"
      }
    },
    {
      "cell_type": "markdown",
      "source": [
        "# **Explanation of the MultiplayerCamera Class**\n",
        "\n",
        "The MultiplayerCamera class is designed to manage the camera settings and behavior for visualizing a multiplayer soccer environment using the dm_control library. This class configures the camera to follow and track the entities within the environment, ensuring that the camera provides a clear view of the ongoing game. It includes methods to initialize the camera with the environment's physics, update its position after each simulation step, and render frames for visualization. Below is a detailed breakdown of each component and method within the class.\n",
        "\n",
        "#1. Initialization (__init__ Method)\n",
        "\n",
        "The __init__ method serves as the constructor for the MultiplayerCamera class. It sets up the camera with specific parameters to define its behavior and appearance:\n",
        "\n",
        "Camera Configuration: The camera is initialized using camera.MultiplayerTrackingCamera() with the following parameters:\n",
        "\n",
        "min_distance=3.0: Sets the minimum distance between the camera and the tracked entities to avoid collision or overly close views.\n",
        "\n",
        "distance_factor=1.5: Defines a scaling factor for the camera's distance, controlling how far the camera will be from the entities based on their spread.\n",
        "\n",
        "smoothing_update_speed=0.1: Controls the speed at which the camera smoothly follows the entities, preventing abrupt movements.\n",
        "\n",
        "azimuth=90: Sets the camera's horizontal angle relative to the scene (measured in degrees).\n",
        "\n",
        "elevation=-30: Sets the camera's vertical angle relative to the scene (measured in degrees).\n",
        "\n",
        "width=640: Specifies the width of the camera's rendered output in pixels.\n",
        "\n",
        "height=480: Specifies the height of the camera's rendered output in pixels.\n",
        "\n",
        "These parameters help create a dynamic, smooth, and adjustable camera view that provides a comprehensive visualization of the soccer environment.\n",
        "\n",
        "#2. Initializing the Camera (initialize Method)\n",
        "\n",
        "The initialize method sets up the camera using the environment's physics object. This is essential to align the camera with the environment's current state:\n",
        "\n",
        "Compiling with Physics: The camera is compiled with the environment's physics object by calling self.camera.after_compile(physics). This ensures that the camera has access to the necessary data for accurate tracking and rendering.\n",
        "\n",
        "\n",
        "Getting Initial Positions: A list comprehension is used to retrieve the initial positions of all entities (body_id) in the environment from the physics data (physics.data.xpos[body_id]).\n",
        "\n",
        "\n",
        "Initializing Camera Episode: The camera is initialized to begin tracking the episode using the initial positions (self.camera.initialize_episode(initial_positions)). This sets the camera's focus and ensures it is correctly positioned from the start of the simulation.\n",
        "\n",
        "#3. Updating the Camera (update Method)\n",
        "\n",
        "The update method refreshes the camera's position and orientation after each step in the simulation.\n",
        "\n",
        "Updating After Each Step: The camera's position and tracking are updated using self.camera.after_step(positions), which takes the current positions of entities as input. This ensures that the camera smoothly follows the movement of entities during the game, maintaining a clear view.\n",
        "\n",
        "#4. Rendering the Frame (render Method)\n",
        "\n",
        "The render method generates a visual representation of the current state of the environment from the camera's perspective.\n",
        "\n",
        "Rendering the Frame: The method calls self.camera.render() to produce a frame that captures the current view of the environment. This frame can be displayed in real-time or recorded for later analysis."
      ],
      "metadata": {
        "id": "wscpwKL5HtYu"
      }
    },
    {
      "cell_type": "code",
      "source": [
        "class MultiplayerCamera:\n",
        "    \"\"\"Class to handle the camera settings and behavior.\"\"\"\n",
        "\n",
        "    def __init__(self):\n",
        "        self.camera = camera.MultiplayerTrackingCamera(\n",
        "            min_distance=3.0,\n",
        "            distance_factor=1.5,\n",
        "            smoothing_update_speed=0.1,\n",
        "            azimuth=90,\n",
        "            elevation=-30,\n",
        "            width=640,\n",
        "            height=480\n",
        "        )\n",
        "\n",
        "    def initialize(self, physics):\n",
        "        \"\"\"Initialize the camera with the environment's physics.\"\"\"\n",
        "        self.camera.after_compile(physics)\n",
        "        initial_positions = [physics.data.xpos[body_id] for body_id in range(physics.model.nbody)]\n",
        "        self.camera.initialize_episode(initial_positions)\n",
        "\n",
        "    def update(self, positions):\n",
        "        \"\"\"Update the camera after each step.\"\"\"\n",
        "        self.camera.after_step(positions)\n",
        "\n",
        "    def render(self):\n",
        "        \"\"\"Render the current frame using the tracking camera.\"\"\"\n",
        "        return self.camera.render()\n",
        "\n"
      ],
      "metadata": {
        "colab": {
          "base_uri": "https://localhost:8080/"
        },
        "id": "k3mmNi3bGksR",
        "outputId": "c865bf87-ee92-4d1a-bf00-12b73300bff6"
      },
      "execution_count": 8,
      "outputs": [
        {
          "output_type": "stream",
          "name": "stderr",
          "text": [
            "/usr/local/lib/python3.10/dist-packages/ipykernel/ipkernel.py:283: DeprecationWarning: `should_run_async` will not call `transform_cell` automatically in the future. Please pass the result to `transformed_cell` argument and any exception that happen during thetransform in `preprocessing_exc_tuple` in IPython 7.17 and above.\n",
            "  and should_run_async(code)\n"
          ]
        }
      ]
    },
    {
      "cell_type": "markdown",
      "source": [
        "# **Explanation of the SoccerTraining Class**\n",
        "\n",
        "The SoccerTraining class is responsible for handling the entire training process of a soccer simulation, including reward calculations, player actions, and video recording of the session. This class integrates the previously defined SoccerEnvironment and MultiplayerCamera classes to create a cohesive system for training and evaluating players in a soccer game environment. Below is a detailed breakdown of each component and method within the class.\n",
        "\n",
        "#1. Initialization (__init__ Method)\n",
        "\n",
        "The __init__ method serves as the constructor for the SoccerTraining class. It sets up the necessary components to start and manage the training process:\n",
        "\n",
        "Environment Setup: The environment is initialized by creating an instance of the SoccerEnvironment class (self.env), which sets up the soccer field, players, and ball.\n",
        "\n",
        "Camera Setup: A camera is initialized through an instance of the MultiplayerCamera class (self.camera) to visualize the game.\n",
        "\n",
        "Video Recording Configuration: The video_writer is configured to record the training session as an MP4 video file named \"soccer_training5.mp4\" at a frame rate of 30 frames per second.\n",
        "\n",
        "Frame Counter: The frame_count variable is initialized to 0 to keep track of the number of frames processed during the training session.\n",
        "\n",
        "#2. Calculating Distance to Ball (calculate_distance_to_ball Method)\n",
        "\n",
        "The calculate_distance_to_ball method computes the Euclidean distance between a player and the ball, which is essential for determining rewards based on player behavior:\n",
        "\n",
        "Distance Calculation: The method takes two arguments, player_position and ball_position, which represent the positions of a player and the ball, respectively. It uses NumPy's np.linalg.norm() to compute the Euclidean distance between these two points.\n",
        "\n",
        "#3. Calculating Rewards (calculate_rewards Method)\n",
        "\n",
        "The calculate_rewards method calculates the rewards for each player based on their behavior in the environment:\n",
        "\n",
        "Initializing Rewards and Physics: An empty rewards list is initialized to store the rewards for each player. The environment's physics object is retrieved using self.env.get_physics().\n",
        "\n",
        "Accessing Ball Position: The position of the soccer ball is obtained using its geometry name ('soccer_ball/geom'). If the ball's position cannot be accessed, an exception is caught, and an error message is printed.\n",
        "\n",
        "Player Root Names: The method defines a list of player root names (player_root_names) that match the exact entity names within the environment: ['home0/root', 'home1/root', 'away0/root', 'away1/root'].\n",
        "\n",
        "Loop Through Players: For each player, the method:\n",
        "\n",
        "Retrieves the player's position using physics.named.data.xpos[player_name].\n",
        "Calculates the distance between the player and the ball.\n",
        "\n",
        "Computes rewards for getting closer to the ball (distance_reward), kicking the ball (kick_reward), and moving (movement_reward).\n",
        "\n",
        "Sums the rewards to calculate the total reward for the player and appends it to the rewards list.\n",
        "Handles any errors in accessing player data gracefully using exception handling.\n",
        "\n",
        "#4. Printing Rewards (print_rewards Method)\n",
        "\n",
        "The print_rewards method outputs the rewards for each player to the console:\n",
        "\n",
        "Output Formatting: The method iterates through the rewards list and prints each player's reward in a formatted manner (e.g., \"Player 0 reward: 1.23\").\n",
        "\n",
        "#5. Running the Training Session (run_training Method)\n",
        "\n",
        "The run_training method executes the main training loop, managing the interactions between the players and the environment:\n",
        "\n",
        "Camera Initialization: The camera is initialized with the physics object to start tracking the simulation.\n",
        "\n",
        "Main Training Loop: While the environment has not reached its final timestep:\n",
        "\n",
        "Generate Random Actions: Random actions are generated for all players using their action specifications (self.env.action_specs).\n",
        "\n",
        "Step through the Environment: The simulation advances by one step using self.env.step(actions).\n",
        "\n",
        "Update Camera and Calculate Rewards: The camera is updated with the current positions of the entities, and rewards are calculated based on player behaviors.\n",
        "Print Rewards and Observations: Rewards and observations are printed for each player.\n",
        "\n",
        "Record Frames: Frames are recorded at regular intervals (every 5th frame) using the self.camera.render() method.\n",
        "\n",
        "Increment Frame Counter: The frame_count is incremented after each loop iteration.\n",
        "Video Closing and Completion: Once the training session is complete, the video writer is closed, and a message is printed indicating the successful completion of the training."
      ],
      "metadata": {
        "id": "vzlLdp8-Iw6N"
      }
    },
    {
      "cell_type": "code",
      "source": [
        "class SoccerTraining:\n",
        "    \"\"\"Class to handle the training process, rewards, and recording.\"\"\"\n",
        "\n",
        "    def __init__(self):\n",
        "        self.env = SoccerEnvironment()\n",
        "        self.camera = MultiplayerCamera()\n",
        "        self.video_writer = imageio.get_writer(\"soccer_training6.mp4\", fps=30)\n",
        "        self.frame_count = 0\n",
        "\n",
        "    def calculate_distance_to_ball(self, player_position, ball_position):\n",
        "        \"\"\"Calculate the Euclidean distance between the player and the ball.\"\"\"\n",
        "        return np.linalg.norm(np.array(player_position) - np.array(ball_position))\n",
        "\n",
        "    def calculate_rewards(self):\n",
        "        \"\"\"Calculate rewards based on player behaviors.\"\"\"\n",
        "        rewards = []\n",
        "        physics = self.env.get_physics()\n",
        "\n",
        "        # Access the ball position using the correct name\n",
        "        ball_geom_name = 'soccer_ball/geom'  # Correct soccer ball geometry name\n",
        "        try:\n",
        "            ball_geom_id = physics.model.name2id(ball_geom_name, 'geom')\n",
        "            ball_position = physics.data.xpos[ball_geom_id]\n",
        "        except Exception as e:\n",
        "            print(f\"Error retrieving ball position: {e}\")\n",
        "            return rewards\n",
        "\n",
        "        # List of player root names based on the environment\n",
        "        player_root_names = ['home0/root', 'home1/root', 'away0/root', 'away1/root']  # Updated to match exact names\n",
        "\n",
        "        for player_name in player_root_names:\n",
        "            try:\n",
        "                # Access the root body's position\n",
        "                player_position = physics.named.data.xpos[player_name]\n",
        "\n",
        "                # Calculate the distance to the soccer ball\n",
        "                distance_to_ball = self.calculate_distance_to_ball(player_position, ball_position)\n",
        "\n",
        "                # Reward for getting closer to the ball\n",
        "                distance_reward = max(0, 1.0 - distance_to_ball)\n",
        "\n",
        "                # Reward for kicking the ball\n",
        "                kick_reward = 2.0 if self.env.soccer_ball.hit else 0\n",
        "\n",
        "                # Access the linear velocity of the root body\n",
        "                velocity = np.linalg.norm(physics.named.data.qvel[player_name])\n",
        "\n",
        "                # Reward for moving (learning to walk/run)\n",
        "                movement_reward = min(velocity, 1.0)\n",
        "\n",
        "                # Total reward\n",
        "                total_reward = distance_reward + kick_reward + movement_reward\n",
        "                rewards.append(total_reward)\n",
        "\n",
        "            except KeyError as e:\n",
        "                print(f\"Key error while accessing data for player '{player_name}': {e}\")\n",
        "                continue\n",
        "\n",
        "        return rewards\n",
        "\n",
        "    def print_rewards(self, rewards):\n",
        "        \"\"\"Print the rewards for each player.\"\"\"\n",
        "        for i, reward in enumerate(rewards):\n",
        "            print(f\"Player {i} reward: {reward:.2f}\")\n",
        "\n",
        "    def run_training(self):\n",
        "        \"\"\"Run the soccer training session.\"\"\"\n",
        "        self.camera.initialize(self.env.get_physics())\n",
        "\n",
        "        while not self.env.timestep.last():\n",
        "            # Generate random actions for all players\n",
        "            actions = [\n",
        "                np.random.uniform(action_spec.minimum, action_spec.maximum, size=action_spec.shape)\n",
        "                for action_spec in self.env.action_specs\n",
        "            ]\n",
        "\n",
        "            # Step through the environment\n",
        "            self.env.step(actions)\n",
        "\n",
        "            # Update camera and calculate rewards\n",
        "            entity_positions = self.env.get_positions()\n",
        "            self.camera.update(entity_positions)\n",
        "            rewards = self.calculate_rewards()\n",
        "\n",
        "            # Print rewards and observations\n",
        "            self.print_rewards(rewards)\n",
        "            for i in range(len(self.env.action_specs)):\n",
        "                print(f\"Player {i}: observations = {self.env.timestep.observation[i]}\")\n",
        "\n",
        "            # Record frames at regular intervals\n",
        "            if self.frame_count % 5 == 0:\n",
        "                frame = self.camera.render()\n",
        "                self.video_writer.append_data(frame)\n",
        "\n",
        "            self.frame_count += 1\n",
        "\n",
        "        self.video_writer.close()\n",
        "        print(\"Training completed and video saved as soccer_training6.mp4.\")\n"
      ],
      "metadata": {
        "colab": {
          "base_uri": "https://localhost:8080/"
        },
        "id": "50o6niaUHoHo",
        "outputId": "7ee46858-3824-47b1-8e0c-d1f753ac88a4"
      },
      "execution_count": 9,
      "outputs": [
        {
          "output_type": "stream",
          "name": "stderr",
          "text": [
            "/usr/local/lib/python3.10/dist-packages/ipykernel/ipkernel.py:283: DeprecationWarning: `should_run_async` will not call `transform_cell` automatically in the future. Please pass the result to `transformed_cell` argument and any exception that happen during thetransform in `preprocessing_exc_tuple` in IPython 7.17 and above.\n",
            "  and should_run_async(code)\n"
          ]
        }
      ]
    },
    {
      "cell_type": "code",
      "source": [
        "if __name__ == \"__main__\":\n",
        "    # Run the soccer training\n",
        "    training = SoccerTraining()\n",
        "    training.run_training()\n"
      ],
      "metadata": {
        "colab": {
          "base_uri": "https://localhost:8080/",
          "height": 459
        },
        "id": "AXBaw5FzImUc",
        "outputId": "9fe2108d-5061-4859-b35e-6b17d06a3ab3"
      },
      "execution_count": 10,
      "outputs": [
        {
          "output_type": "stream",
          "name": "stderr",
          "text": [
            "/usr/local/lib/python3.10/dist-packages/ipykernel/ipkernel.py:283: DeprecationWarning: `should_run_async` will not call `transform_cell` automatically in the future. Please pass the result to `transformed_cell` argument and any exception that happen during thetransform in `preprocessing_exc_tuple` in IPython 7.17 and above.\n",
            "  and should_run_async(code)\n",
            "/usr/local/lib/python3.10/dist-packages/glfw/__init__.py:914: GLFWError: (65537) b'The GLFW library is not initialized'\n",
            "  warnings.warn(message, GLFWError)\n"
          ]
        },
        {
          "output_type": "error",
          "ename": "FatalError",
          "evalue": "an OpenGL platform library has not been loaded into this process, this most likely means that a valid OpenGL context has not been created before mjr_makeContext was called",
          "traceback": [
            "\u001b[0;31m---------------------------------------------------------------------------\u001b[0m",
            "\u001b[0;31mFatalError\u001b[0m                                Traceback (most recent call last)",
            "\u001b[0;32m<ipython-input-10-04282cc146dd>\u001b[0m in \u001b[0;36m<cell line: 1>\u001b[0;34m()\u001b[0m\n\u001b[1;32m      2\u001b[0m     \u001b[0;31m# Run the soccer training\u001b[0m\u001b[0;34m\u001b[0m\u001b[0;34m\u001b[0m\u001b[0m\n\u001b[1;32m      3\u001b[0m     \u001b[0mtraining\u001b[0m \u001b[0;34m=\u001b[0m \u001b[0mSoccerTraining\u001b[0m\u001b[0;34m(\u001b[0m\u001b[0;34m)\u001b[0m\u001b[0;34m\u001b[0m\u001b[0;34m\u001b[0m\u001b[0m\n\u001b[0;32m----> 4\u001b[0;31m     \u001b[0mtraining\u001b[0m\u001b[0;34m.\u001b[0m\u001b[0mrun_training\u001b[0m\u001b[0;34m(\u001b[0m\u001b[0;34m)\u001b[0m\u001b[0;34m\u001b[0m\u001b[0;34m\u001b[0m\u001b[0m\n\u001b[0m",
            "\u001b[0;32m<ipython-input-9-c61e52b103fc>\u001b[0m in \u001b[0;36mrun_training\u001b[0;34m(self)\u001b[0m\n\u001b[1;32m     66\u001b[0m     \u001b[0;32mdef\u001b[0m \u001b[0mrun_training\u001b[0m\u001b[0;34m(\u001b[0m\u001b[0mself\u001b[0m\u001b[0;34m)\u001b[0m\u001b[0;34m:\u001b[0m\u001b[0;34m\u001b[0m\u001b[0;34m\u001b[0m\u001b[0m\n\u001b[1;32m     67\u001b[0m         \u001b[0;34m\"\"\"Run the soccer training session.\"\"\"\u001b[0m\u001b[0;34m\u001b[0m\u001b[0;34m\u001b[0m\u001b[0m\n\u001b[0;32m---> 68\u001b[0;31m         \u001b[0mself\u001b[0m\u001b[0;34m.\u001b[0m\u001b[0mcamera\u001b[0m\u001b[0;34m.\u001b[0m\u001b[0minitialize\u001b[0m\u001b[0;34m(\u001b[0m\u001b[0mself\u001b[0m\u001b[0;34m.\u001b[0m\u001b[0menv\u001b[0m\u001b[0;34m.\u001b[0m\u001b[0mget_physics\u001b[0m\u001b[0;34m(\u001b[0m\u001b[0;34m)\u001b[0m\u001b[0;34m)\u001b[0m\u001b[0;34m\u001b[0m\u001b[0;34m\u001b[0m\u001b[0m\n\u001b[0m\u001b[1;32m     69\u001b[0m \u001b[0;34m\u001b[0m\u001b[0m\n\u001b[1;32m     70\u001b[0m         \u001b[0;32mwhile\u001b[0m \u001b[0;32mnot\u001b[0m \u001b[0mself\u001b[0m\u001b[0;34m.\u001b[0m\u001b[0menv\u001b[0m\u001b[0;34m.\u001b[0m\u001b[0mtimestep\u001b[0m\u001b[0;34m.\u001b[0m\u001b[0mlast\u001b[0m\u001b[0;34m(\u001b[0m\u001b[0;34m)\u001b[0m\u001b[0;34m:\u001b[0m\u001b[0;34m\u001b[0m\u001b[0;34m\u001b[0m\u001b[0m\n",
            "\u001b[0;32m<ipython-input-8-e0043d62a1f1>\u001b[0m in \u001b[0;36minitialize\u001b[0;34m(self, physics)\u001b[0m\n\u001b[1;32m     15\u001b[0m     \u001b[0;32mdef\u001b[0m \u001b[0minitialize\u001b[0m\u001b[0;34m(\u001b[0m\u001b[0mself\u001b[0m\u001b[0;34m,\u001b[0m \u001b[0mphysics\u001b[0m\u001b[0;34m)\u001b[0m\u001b[0;34m:\u001b[0m\u001b[0;34m\u001b[0m\u001b[0;34m\u001b[0m\u001b[0m\n\u001b[1;32m     16\u001b[0m         \u001b[0;34m\"\"\"Initialize the camera with the environment's physics.\"\"\"\u001b[0m\u001b[0;34m\u001b[0m\u001b[0;34m\u001b[0m\u001b[0m\n\u001b[0;32m---> 17\u001b[0;31m         \u001b[0mself\u001b[0m\u001b[0;34m.\u001b[0m\u001b[0mcamera\u001b[0m\u001b[0;34m.\u001b[0m\u001b[0mafter_compile\u001b[0m\u001b[0;34m(\u001b[0m\u001b[0mphysics\u001b[0m\u001b[0;34m)\u001b[0m\u001b[0;34m\u001b[0m\u001b[0;34m\u001b[0m\u001b[0m\n\u001b[0m\u001b[1;32m     18\u001b[0m         \u001b[0minitial_positions\u001b[0m \u001b[0;34m=\u001b[0m \u001b[0;34m[\u001b[0m\u001b[0mphysics\u001b[0m\u001b[0;34m.\u001b[0m\u001b[0mdata\u001b[0m\u001b[0;34m.\u001b[0m\u001b[0mxpos\u001b[0m\u001b[0;34m[\u001b[0m\u001b[0mbody_id\u001b[0m\u001b[0;34m]\u001b[0m \u001b[0;32mfor\u001b[0m \u001b[0mbody_id\u001b[0m \u001b[0;32min\u001b[0m \u001b[0mrange\u001b[0m\u001b[0;34m(\u001b[0m\u001b[0mphysics\u001b[0m\u001b[0;34m.\u001b[0m\u001b[0mmodel\u001b[0m\u001b[0;34m.\u001b[0m\u001b[0mnbody\u001b[0m\u001b[0;34m)\u001b[0m\u001b[0;34m]\u001b[0m\u001b[0;34m\u001b[0m\u001b[0;34m\u001b[0m\u001b[0m\n\u001b[1;32m     19\u001b[0m         \u001b[0mself\u001b[0m\u001b[0;34m.\u001b[0m\u001b[0mcamera\u001b[0m\u001b[0;34m.\u001b[0m\u001b[0minitialize_episode\u001b[0m\u001b[0;34m(\u001b[0m\u001b[0minitial_positions\u001b[0m\u001b[0;34m)\u001b[0m\u001b[0;34m\u001b[0m\u001b[0;34m\u001b[0m\u001b[0m\n",
            "\u001b[0;32m/usr/local/lib/python3.10/dist-packages/dm_control/locomotion/soccer/camera.py\u001b[0m in \u001b[0;36mafter_compile\u001b[0;34m(self, physics)\u001b[0m\n\u001b[1;32m     79\u001b[0m     \u001b[0mphysics\u001b[0m\u001b[0;34m.\u001b[0m\u001b[0mmodel\u001b[0m\u001b[0;34m.\u001b[0m\u001b[0mvis\u001b[0m\u001b[0;34m.\u001b[0m\u001b[0mglobal_\u001b[0m\u001b[0;34m.\u001b[0m\u001b[0moffheight\u001b[0m \u001b[0;34m=\u001b[0m \u001b[0mbuffer_height\u001b[0m\u001b[0;34m\u001b[0m\u001b[0;34m\u001b[0m\u001b[0m\n\u001b[1;32m     80\u001b[0m     \u001b[0mphysics\u001b[0m\u001b[0;34m.\u001b[0m\u001b[0mmodel\u001b[0m\u001b[0;34m.\u001b[0m\u001b[0mvis\u001b[0m\u001b[0;34m.\u001b[0m\u001b[0mglobal_\u001b[0m\u001b[0;34m.\u001b[0m\u001b[0moffwidth\u001b[0m \u001b[0;34m=\u001b[0m \u001b[0mbuffer_width\u001b[0m\u001b[0;34m\u001b[0m\u001b[0;34m\u001b[0m\u001b[0m\n\u001b[0;32m---> 81\u001b[0;31m     self._camera = engine.MovableCamera(\n\u001b[0m\u001b[1;32m     82\u001b[0m         physics, height=self._height, width=self._width)\n\u001b[1;32m     83\u001b[0m \u001b[0;34m\u001b[0m\u001b[0m\n",
            "\u001b[0;32m/usr/local/lib/python3.10/dist-packages/dm_control/mujoco/engine.py\u001b[0m in \u001b[0;36m__init__\u001b[0;34m(self, physics, height, width, max_geom, scene_callback)\u001b[0m\n\u001b[1;32m   1005\u001b[0m         \u001b[0mit\u001b[0m \u001b[0;32mis\u001b[0m \u001b[0mrendered\u001b[0m\u001b[0;34m.\u001b[0m \u001b[0mCan\u001b[0m \u001b[0mbe\u001b[0m \u001b[0mused\u001b[0m \u001b[0mto\u001b[0m \u001b[0madd\u001b[0m \u001b[0mmore\u001b[0m \u001b[0mgeoms\u001b[0m \u001b[0mto\u001b[0m \u001b[0mthe\u001b[0m \u001b[0mscene\u001b[0m\u001b[0;34m.\u001b[0m\u001b[0;34m\u001b[0m\u001b[0;34m\u001b[0m\u001b[0m\n\u001b[1;32m   1006\u001b[0m     \"\"\"\n\u001b[0;32m-> 1007\u001b[0;31m     super().__init__(physics=physics, height=height, width=width, camera_id=-1,\n\u001b[0m\u001b[1;32m   1008\u001b[0m                      max_geom=max_geom, scene_callback=scene_callback)\n\u001b[1;32m   1009\u001b[0m \u001b[0;34m\u001b[0m\u001b[0m\n",
            "\u001b[0;32m/usr/local/lib/python3.10/dist-packages/dm_control/mujoco/engine.py\u001b[0m in \u001b[0;36m__init__\u001b[0;34m(self, physics, height, width, camera_id, max_geom, scene_callback)\u001b[0m\n\u001b[1;32m    709\u001b[0m     \u001b[0mself\u001b[0m\u001b[0;34m.\u001b[0m\u001b[0m_depth_buffer\u001b[0m \u001b[0;34m=\u001b[0m \u001b[0mnp\u001b[0m\u001b[0;34m.\u001b[0m\u001b[0mempty\u001b[0m\u001b[0;34m(\u001b[0m\u001b[0;34m(\u001b[0m\u001b[0mself\u001b[0m\u001b[0;34m.\u001b[0m\u001b[0m_height\u001b[0m\u001b[0;34m,\u001b[0m \u001b[0mself\u001b[0m\u001b[0;34m.\u001b[0m\u001b[0m_width\u001b[0m\u001b[0;34m)\u001b[0m\u001b[0;34m,\u001b[0m \u001b[0mdtype\u001b[0m\u001b[0;34m=\u001b[0m\u001b[0mnp\u001b[0m\u001b[0;34m.\u001b[0m\u001b[0mfloat32\u001b[0m\u001b[0;34m)\u001b[0m\u001b[0;34m\u001b[0m\u001b[0;34m\u001b[0m\u001b[0m\n\u001b[1;32m    710\u001b[0m \u001b[0;34m\u001b[0m\u001b[0m\n\u001b[0;32m--> 711\u001b[0;31m     \u001b[0;32mif\u001b[0m \u001b[0mself\u001b[0m\u001b[0;34m.\u001b[0m\u001b[0m_physics\u001b[0m\u001b[0;34m.\u001b[0m\u001b[0mcontexts\u001b[0m\u001b[0;34m.\u001b[0m\u001b[0mmujoco\u001b[0m \u001b[0;32mis\u001b[0m \u001b[0;32mnot\u001b[0m \u001b[0;32mNone\u001b[0m\u001b[0;34m:\u001b[0m\u001b[0;34m\u001b[0m\u001b[0;34m\u001b[0m\u001b[0m\n\u001b[0m\u001b[1;32m    712\u001b[0m       \u001b[0;32mwith\u001b[0m \u001b[0mself\u001b[0m\u001b[0;34m.\u001b[0m\u001b[0m_physics\u001b[0m\u001b[0;34m.\u001b[0m\u001b[0mcontexts\u001b[0m\u001b[0;34m.\u001b[0m\u001b[0mgl\u001b[0m\u001b[0;34m.\u001b[0m\u001b[0mmake_current\u001b[0m\u001b[0;34m(\u001b[0m\u001b[0;34m)\u001b[0m \u001b[0;32mas\u001b[0m \u001b[0mctx\u001b[0m\u001b[0;34m:\u001b[0m\u001b[0;34m\u001b[0m\u001b[0;34m\u001b[0m\u001b[0m\n\u001b[1;32m    713\u001b[0m         ctx.call(mujoco.mjr_setBuffer, mujoco.mjtFramebuffer.mjFB_OFFSCREEN,\n",
            "\u001b[0;32m/usr/local/lib/python3.10/dist-packages/dm_control/mujoco/engine.py\u001b[0m in \u001b[0;36mcontexts\u001b[0;34m(self)\u001b[0m\n\u001b[1;32m    531\u001b[0m     \u001b[0;32mwith\u001b[0m \u001b[0mself\u001b[0m\u001b[0;34m.\u001b[0m\u001b[0m_contexts_lock\u001b[0m\u001b[0;34m:\u001b[0m\u001b[0;34m\u001b[0m\u001b[0;34m\u001b[0m\u001b[0m\n\u001b[1;32m    532\u001b[0m       \u001b[0;32mif\u001b[0m \u001b[0;32mnot\u001b[0m \u001b[0mself\u001b[0m\u001b[0;34m.\u001b[0m\u001b[0m_contexts\u001b[0m\u001b[0;34m:\u001b[0m\u001b[0;34m\u001b[0m\u001b[0;34m\u001b[0m\u001b[0m\n\u001b[0;32m--> 533\u001b[0;31m         \u001b[0mself\u001b[0m\u001b[0;34m.\u001b[0m\u001b[0m_make_rendering_contexts\u001b[0m\u001b[0;34m(\u001b[0m\u001b[0;34m)\u001b[0m\u001b[0;34m\u001b[0m\u001b[0;34m\u001b[0m\u001b[0m\n\u001b[0m\u001b[1;32m    534\u001b[0m     \u001b[0;32mreturn\u001b[0m \u001b[0mself\u001b[0m\u001b[0;34m.\u001b[0m\u001b[0m_contexts\u001b[0m\u001b[0;34m\u001b[0m\u001b[0;34m\u001b[0m\u001b[0m\n\u001b[1;32m    535\u001b[0m \u001b[0;34m\u001b[0m\u001b[0m\n",
            "\u001b[0;32m/usr/local/lib/python3.10/dist-packages/dm_control/mujoco/engine.py\u001b[0m in \u001b[0;36m_make_rendering_contexts\u001b[0;34m(self)\u001b[0m\n\u001b[1;32m    517\u001b[0m         max_width=max_width, max_height=max_height)\n\u001b[1;32m    518\u001b[0m     \u001b[0;31m# Create the MuJoCo context.\u001b[0m\u001b[0;34m\u001b[0m\u001b[0;34m\u001b[0m\u001b[0m\n\u001b[0;32m--> 519\u001b[0;31m     \u001b[0mmujoco_context\u001b[0m \u001b[0;34m=\u001b[0m \u001b[0mwrapper\u001b[0m\u001b[0;34m.\u001b[0m\u001b[0mMjrContext\u001b[0m\u001b[0;34m(\u001b[0m\u001b[0mself\u001b[0m\u001b[0;34m.\u001b[0m\u001b[0mmodel\u001b[0m\u001b[0;34m,\u001b[0m \u001b[0mrender_context\u001b[0m\u001b[0;34m)\u001b[0m\u001b[0;34m\u001b[0m\u001b[0;34m\u001b[0m\u001b[0m\n\u001b[0m\u001b[1;32m    520\u001b[0m     \u001b[0mself\u001b[0m\u001b[0;34m.\u001b[0m\u001b[0m_contexts\u001b[0m \u001b[0;34m=\u001b[0m \u001b[0mContexts\u001b[0m\u001b[0;34m(\u001b[0m\u001b[0mgl\u001b[0m\u001b[0;34m=\u001b[0m\u001b[0mrender_context\u001b[0m\u001b[0;34m,\u001b[0m \u001b[0mmujoco\u001b[0m\u001b[0;34m=\u001b[0m\u001b[0mmujoco_context\u001b[0m\u001b[0;34m)\u001b[0m\u001b[0;34m\u001b[0m\u001b[0;34m\u001b[0m\u001b[0m\n\u001b[1;32m    521\u001b[0m \u001b[0;34m\u001b[0m\u001b[0m\n",
            "\u001b[0;32m/usr/local/lib/python3.10/dist-packages/dm_control/mujoco/wrapper/core.py\u001b[0m in \u001b[0;36m__init__\u001b[0;34m(self, model, gl_context, font_scale)\u001b[0m\n\u001b[1;32m    606\u001b[0m     \u001b[0mself\u001b[0m\u001b[0;34m.\u001b[0m\u001b[0m_gl_context\u001b[0m \u001b[0;34m=\u001b[0m \u001b[0mgl_context\u001b[0m\u001b[0;34m\u001b[0m\u001b[0;34m\u001b[0m\u001b[0m\n\u001b[1;32m    607\u001b[0m     \u001b[0;32mwith\u001b[0m \u001b[0mgl_context\u001b[0m\u001b[0;34m.\u001b[0m\u001b[0mmake_current\u001b[0m\u001b[0;34m(\u001b[0m\u001b[0;34m)\u001b[0m \u001b[0;32mas\u001b[0m \u001b[0mctx\u001b[0m\u001b[0;34m:\u001b[0m\u001b[0;34m\u001b[0m\u001b[0;34m\u001b[0m\u001b[0m\n\u001b[0;32m--> 608\u001b[0;31m       \u001b[0mptr\u001b[0m \u001b[0;34m=\u001b[0m \u001b[0mctx\u001b[0m\u001b[0;34m.\u001b[0m\u001b[0mcall\u001b[0m\u001b[0;34m(\u001b[0m\u001b[0mmujoco\u001b[0m\u001b[0;34m.\u001b[0m\u001b[0mMjrContext\u001b[0m\u001b[0;34m,\u001b[0m \u001b[0mmodel\u001b[0m\u001b[0;34m.\u001b[0m\u001b[0mptr\u001b[0m\u001b[0;34m,\u001b[0m \u001b[0mfont_scale\u001b[0m\u001b[0;34m)\u001b[0m\u001b[0;34m\u001b[0m\u001b[0;34m\u001b[0m\u001b[0m\n\u001b[0m\u001b[1;32m    609\u001b[0m       \u001b[0mctx\u001b[0m\u001b[0;34m.\u001b[0m\u001b[0mcall\u001b[0m\u001b[0;34m(\u001b[0m\u001b[0mmujoco\u001b[0m\u001b[0;34m.\u001b[0m\u001b[0mmjr_setBuffer\u001b[0m\u001b[0;34m,\u001b[0m \u001b[0mmujoco\u001b[0m\u001b[0;34m.\u001b[0m\u001b[0mmjtFramebuffer\u001b[0m\u001b[0;34m.\u001b[0m\u001b[0mmjFB_OFFSCREEN\u001b[0m\u001b[0;34m,\u001b[0m \u001b[0mptr\u001b[0m\u001b[0;34m)\u001b[0m\u001b[0;34m\u001b[0m\u001b[0;34m\u001b[0m\u001b[0m\n\u001b[1;32m    610\u001b[0m     \u001b[0mgl_context\u001b[0m\u001b[0;34m.\u001b[0m\u001b[0mkeep_alive\u001b[0m\u001b[0;34m(\u001b[0m\u001b[0mptr\u001b[0m\u001b[0;34m)\u001b[0m\u001b[0;34m\u001b[0m\u001b[0;34m\u001b[0m\u001b[0m\n",
            "\u001b[0;32m/usr/local/lib/python3.10/dist-packages/dm_control/_render/executor/render_executor.py\u001b[0m in \u001b[0;36mcall\u001b[0;34m(self, func, *args, **kwargs)\u001b[0m\n\u001b[1;32m    136\u001b[0m   \u001b[0;32mdef\u001b[0m \u001b[0mcall\u001b[0m\u001b[0;34m(\u001b[0m\u001b[0mself\u001b[0m\u001b[0;34m,\u001b[0m \u001b[0mfunc\u001b[0m\u001b[0;34m,\u001b[0m \u001b[0;34m*\u001b[0m\u001b[0margs\u001b[0m\u001b[0;34m,\u001b[0m \u001b[0;34m**\u001b[0m\u001b[0mkwargs\u001b[0m\u001b[0;34m)\u001b[0m\u001b[0;34m:\u001b[0m\u001b[0;34m\u001b[0m\u001b[0;34m\u001b[0m\u001b[0m\n\u001b[1;32m    137\u001b[0m     \u001b[0mself\u001b[0m\u001b[0;34m.\u001b[0m\u001b[0m_check_locked\u001b[0m\u001b[0;34m(\u001b[0m\u001b[0;34m)\u001b[0m\u001b[0;34m\u001b[0m\u001b[0;34m\u001b[0m\u001b[0m\n\u001b[0;32m--> 138\u001b[0;31m     \u001b[0;32mreturn\u001b[0m \u001b[0mfunc\u001b[0m\u001b[0;34m(\u001b[0m\u001b[0;34m*\u001b[0m\u001b[0margs\u001b[0m\u001b[0;34m,\u001b[0m \u001b[0;34m**\u001b[0m\u001b[0mkwargs\u001b[0m\u001b[0;34m)\u001b[0m\u001b[0;34m\u001b[0m\u001b[0;34m\u001b[0m\u001b[0m\n\u001b[0m\u001b[1;32m    139\u001b[0m \u001b[0;34m\u001b[0m\u001b[0m\n\u001b[1;32m    140\u001b[0m   \u001b[0;32mdef\u001b[0m \u001b[0mterminate\u001b[0m\u001b[0;34m(\u001b[0m\u001b[0mself\u001b[0m\u001b[0;34m,\u001b[0m \u001b[0mcleanup_callable\u001b[0m\u001b[0;34m=\u001b[0m\u001b[0;32mNone\u001b[0m\u001b[0;34m)\u001b[0m\u001b[0;34m:\u001b[0m\u001b[0;34m\u001b[0m\u001b[0;34m\u001b[0m\u001b[0m\n",
            "\u001b[0;31mFatalError\u001b[0m: an OpenGL platform library has not been loaded into this process, this most likely means that a valid OpenGL context has not been created before mjr_makeContext was called"
          ]
        }
      ]
    },
    {
      "cell_type": "markdown",
      "source": [
        "# **RUN LOCALLY IGNORE THIS ERROR COLAB HAS NO SUPPORT FOR IT**"
      ],
      "metadata": {
        "id": "_67LsaASNQsV"
      }
    },
    {
      "cell_type": "code",
      "source": [],
      "metadata": {
        "id": "tlB7QmC_NgI4"
      },
      "execution_count": null,
      "outputs": []
    }
  ]
}