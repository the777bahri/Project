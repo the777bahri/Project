{
  "cells": [
    {
      "cell_type": "markdown",
      "metadata": {
        "id": "5Yj17sWbn37K"
      },
      "source": [
        "**HI ALL**"
      ]
    },
    {
      "cell_type": "markdown",
      "metadata": {
        "id": "Bn7wsGZ7hpmJ"
      },
      "source": [
        "# Connecting to storage System"
      ]
    },
    {
      "cell_type": "code",
      "execution_count": 21,
      "metadata": {
        "colab": {
          "base_uri": "https://localhost:8080/"
        },
        "id": "itSZ8v-qhulC",
        "outputId": "bc62d03e-67ed-4cd5-dc91-c47b6ca9bf89"
      },
      "outputs": [
        {
          "name": "stdout",
          "output_type": "stream",
          "text": [
            "Drive already mounted at /content/gdrive; to attempt to forcibly remount, call drive.mount(\"/content/gdrive\", force_remount=True).\n"
          ]
        }
      ],
      "source": [
        "# from google.colab import drive\n",
        "# drive.mount('/content/gdrive')"
      ]
    },
    {
      "cell_type": "code",
      "execution_count": 22,
      "metadata": {
        "colab": {
          "base_uri": "https://localhost:8080/"
        },
        "id": "z6Py-925pcbM",
        "outputId": "6452547a-0b91-4314-9b99-71fccaa34b87"
      },
      "outputs": [
        {
          "name": "stdout",
          "output_type": "stream",
          "text": [
            " Colab_Sim_CHRIS.ipynb   README.md                        'test2_!_local.py'   \u001b[0m\u001b[01;34mURDFs\u001b[0m/\n",
            " joints.txt              test1_agent+box+arm_movement.py   test2_.py           vid.mp4\n"
          ]
        }
      ],
      "source": [
        "# ls"
      ]
    },
    {
      "cell_type": "code",
      "execution_count": 23,
      "metadata": {
        "colab": {
          "base_uri": "https://localhost:8080/"
        },
        "id": "DvYWp9kHiRSj",
        "outputId": "bafba976-e3e0-4a2e-a9d1-387b4cb2df3c"
      },
      "outputs": [
        {
          "name": "stdout",
          "output_type": "stream",
          "text": [
            "/content/gdrive/MyDrive/FIFA 25/PyBullet\n"
          ]
        }
      ],
      "source": [
        "# cd /content/gdrive/MyDrive/FIFA 25/PyBullet"
      ]
    },
    {
      "cell_type": "code",
      "execution_count": 24,
      "metadata": {
        "colab": {
          "base_uri": "https://localhost:8080/"
        },
        "id": "_fEM5DVxi-qN",
        "outputId": "6e04b3f2-22fb-419e-f2e6-caca885916c9"
      },
      "outputs": [
        {
          "name": "stdout",
          "output_type": "stream",
          "text": [
            " Colab_Sim_CHRIS.ipynb\t README.md\t\t\t  'test2_!_local.py'   URDFs\n",
            " joints.txt\t\t test1_agent+box+arm_movement.py   test2_.py\t       vid.mp4\n"
          ]
        }
      ],
      "source": [
        "!ls"
      ]
    },
    {
      "cell_type": "code",
      "execution_count": 25,
      "metadata": {
        "colab": {
          "base_uri": "https://localhost:8080/"
        },
        "id": "iWAp4XtkpoxK",
        "outputId": "2a9c3d23-4ef1-4fea-85a5-5cefb24ee198"
      },
      "outputs": [
        {
          "name": "stdout",
          "output_type": "stream",
          "text": [
            "Sun Sep 15 04:14:17 2024       \n",
            "+---------------------------------------------------------------------------------------+\n",
            "| NVIDIA-SMI 535.104.05             Driver Version: 535.104.05   CUDA Version: 12.2     |\n",
            "|-----------------------------------------+----------------------+----------------------+\n",
            "| GPU  Name                 Persistence-M | Bus-Id        Disp.A | Volatile Uncorr. ECC |\n",
            "| Fan  Temp   Perf          Pwr:Usage/Cap |         Memory-Usage | GPU-Util  Compute M. |\n",
            "|                                         |                      |               MIG M. |\n",
            "|=========================================+======================+======================|\n",
            "|   0  NVIDIA A100-SXM4-40GB          Off | 00000000:00:04.0 Off |                    0 |\n",
            "| N/A   31C    P0              42W / 400W |      2MiB / 40960MiB |      0%      Default |\n",
            "|                                         |                      |             Disabled |\n",
            "+-----------------------------------------+----------------------+----------------------+\n",
            "                                                                                         \n",
            "+---------------------------------------------------------------------------------------+\n",
            "| Processes:                                                                            |\n",
            "|  GPU   GI   CI        PID   Type   Process name                            GPU Memory |\n",
            "|        ID   ID                                                             Usage      |\n",
            "|=======================================================================================|\n",
            "|  No running processes found                                                           |\n",
            "+---------------------------------------------------------------------------------------+\n"
          ]
        }
      ],
      "source": [
        "!nvidia-smi\n"
      ]
    },
    {
      "cell_type": "code",
      "execution_count": 26,
      "metadata": {
        "colab": {
          "base_uri": "https://localhost:8080/"
        },
        "id": "Ba9zqaWmqCSp",
        "outputId": "679b61ba-f633-45f0-db01-9ed7e065a760"
      },
      "outputs": [
        {
          "name": "stdout",
          "output_type": "stream",
          "text": [
            "Sun Sep 15 04:14:18 2024       \n",
            "+---------------------------------------------------------------------------------------+\n",
            "| NVIDIA-SMI 535.104.05             Driver Version: 535.104.05   CUDA Version: 12.2     |\n",
            "|-----------------------------------------+----------------------+----------------------+\n",
            "| GPU  Name                 Persistence-M | Bus-Id        Disp.A | Volatile Uncorr. ECC |\n",
            "| Fan  Temp   Perf          Pwr:Usage/Cap |         Memory-Usage | GPU-Util  Compute M. |\n",
            "|                                         |                      |               MIG M. |\n",
            "|=========================================+======================+======================|\n",
            "|   0  NVIDIA A100-SXM4-40GB          Off | 00000000:00:04.0 Off |                    0 |\n",
            "| N/A   31C    P0              42W / 400W |      2MiB / 40960MiB |      0%      Default |\n",
            "|                                         |                      |             Disabled |\n",
            "+-----------------------------------------+----------------------+----------------------+\n",
            "                                                                                         \n",
            "+---------------------------------------------------------------------------------------+\n",
            "| Processes:                                                                            |\n",
            "|  GPU   GI   CI        PID   Type   Process name                            GPU Memory |\n",
            "|        ID   ID                                                             Usage      |\n",
            "|=======================================================================================|\n",
            "|  No running processes found                                                           |\n",
            "+---------------------------------------------------------------------------------------+\n"
          ]
        }
      ],
      "source": [
        "gpu_info = !nvidia-smi\n",
        "gpu_info = '\\n'.join(gpu_info)\n",
        "if gpu_info.find('failed') >= 0:\n",
        "  print('Not connected to a GPU')\n",
        "else:\n",
        "  print(gpu_info)"
      ]
    },
    {
      "cell_type": "code",
      "execution_count": 27,
      "metadata": {
        "colab": {
          "base_uri": "https://localhost:8080/"
        },
        "id": "io4xDWXEqFPZ",
        "outputId": "acb80b32-856e-40ef-fdad-a540493ee17f"
      },
      "outputs": [
        {
          "name": "stdout",
          "output_type": "stream",
          "text": [
            "Your runtime has 89.6 gigabytes of available RAM\n",
            "\n",
            "You are using a high-RAM runtime!\n"
          ]
        }
      ],
      "source": [
        "from psutil import virtual_memory\n",
        "ram_gb = virtual_memory().total / 1e9\n",
        "print('Your runtime has {:.1f} gigabytes of available RAM\\n'.format(ram_gb))\n",
        "\n",
        "if ram_gb < 20:\n",
        "  print('Not using a high-RAM runtime')\n",
        "else:\n",
        "  print('You are using a high-RAM runtime!')"
      ]
    },
    {
      "cell_type": "markdown",
      "metadata": {
        "id": "rlrlRa8XhJXt"
      },
      "source": [
        "# Installing packages"
      ]
    },
    {
      "cell_type": "markdown",
      "metadata": {
        "id": "E4FY6LMDg3ku"
      },
      "source": [
        "Install all the used packages"
      ]
    },
    {
      "cell_type": "code",
      "execution_count": 28,
      "metadata": {
        "colab": {
          "base_uri": "https://localhost:8080/"
        },
        "collapsed": true,
        "id": "cMA2QRAeb4Xc",
        "outputId": "e12b7b5c-f104-4cea-c591-3dd194654666"
      },
      "outputs": [
        {
          "name": "stdout",
          "output_type": "stream",
          "text": [
            "Collecting pybullet\n",
            "  Downloading pybullet-3.2.6-cp310-cp310-manylinux_2_17_x86_64.manylinux2014_x86_64.whl.metadata (1.8 kB)\n",
            "Requirement already satisfied: imageio-ffmpeg in /usr/local/lib/python3.10/dist-packages (0.5.1)\n",
            "Requirement already satisfied: setuptools in /usr/local/lib/python3.10/dist-packages (from imageio-ffmpeg) (71.0.4)\n",
            "Downloading pybullet-3.2.6-cp310-cp310-manylinux_2_17_x86_64.manylinux2014_x86_64.whl (103.2 MB)\n",
            "\u001b[2K   \u001b[90m━━━━━━━━━━━━━━━━━━━━━━━━━━━━━━━━━━━━━━━━\u001b[0m \u001b[32m103.2/103.2 MB\u001b[0m \u001b[31m18.9 MB/s\u001b[0m eta \u001b[36m0:00:00\u001b[0m\n",
            "\u001b[?25hInstalling collected packages: pybullet\n",
            "Successfully installed pybullet-3.2.6\n"
          ]
        }
      ],
      "source": [
        "# !pip install stable-baselines3\n",
        "# !pip install --upgrade tensorflow\n",
        "!pip install pybullet imageio-ffmpeg"
      ]
    },
    {
      "cell_type": "code",
      "execution_count": 29,
      "metadata": {
        "id": "3cmBEUoJhXzs"
      },
      "outputs": [],
      "source": [
        "# !pip install cloudpickle==3.0.0\n",
        "# !pip install gym==0.26.2\n",
        "# !pip install gym-notices==0.0.8\n",
        "# !pip install numpy==2.0.1\n",
        "# !pip install pybullet==3.2.6"
      ]
    },
    {
      "cell_type": "markdown",
      "metadata": {
        "id": "x9ldA4xcg-a2"
      },
      "source": [
        "Check the versions to make sure all is compatible"
      ]
    },
    {
      "cell_type": "code",
      "execution_count": 30,
      "metadata": {
        "colab": {
          "base_uri": "https://localhost:8080/"
        },
        "id": "D_7nDBMQa2JW",
        "outputId": "e763896d-42b5-453f-b251-dd12b7f911e4"
      },
      "outputs": [
        {
          "name": "stdout",
          "output_type": "stream",
          "text": [
            "stable_baselines3 Version: 2.3.2\n",
            "tensorflow Version: 2.17.0\n",
            "pybullet Version: 3.2.6\n",
            "imageio_ffmpeg Version: 0.5.1\n"
          ]
        }
      ],
      "source": [
        "import stable_baselines3 as sb\n",
        "import tensorflow as tf\n",
        "import pkg_resources\n",
        "import imageio_ffmpeg\n",
        "print('stable_baselines3 Version:', sb.__version__)\n",
        "print('tensorflow Version:', tf.__version__)\n",
        "print('pybullet Version:', pkg_resources.get_distribution(\"pybullet\").version)\n",
        "print('imageio_ffmpeg Version:', imageio_ffmpeg.__version__)\n",
        "\n",
        "# THE OUTPUT OF THE PRINT STATMENTS\n",
        "# stable_baselines3 Version: 2.3.2\n",
        "# tensorflow Version: 2.17.0\n",
        "# pybullet Version: 3.2.6\n",
        "# imageio_ffmpeg Version: 0.5.1"
      ]
    },
    {
      "cell_type": "markdown",
      "metadata": {
        "id": "pnbT_vVOhP00"
      },
      "source": [
        "# Creating a base code"
      ]
    },
    {
      "cell_type": "code",
      "execution_count": 31,
      "metadata": {
        "id": "XSHFZ4hXXevy"
      },
      "outputs": [],
      "source": [
        "import os\n",
        "import time\n",
        "import math\n",
        "import numpy as np\n",
        "from PIL import Image\n",
        "import matplotlib.pyplot as plt\n",
        "import pybullet as p\n",
        "import pybullet_data\n",
        "import cv2\n",
        "import imageio_ffmpeg\n",
        "from base64 import b64encode\n",
        "from IPython.display import HTML\n",
        "\n"
      ]
    },
    {
      "cell_type": "code",
      "execution_count": 32,
      "metadata": {
        "id": "dsplmSkwwdDC"
      },
      "outputs": [],
      "source": [
        "# Optimized Colab class for managing video and frames\n",
        "class Colab():\n",
        "    def __init__(self):\n",
        "        # Camera parameters\n",
        "        self.cam_target_pos = [0, 0, 0]\n",
        "        self.cam_distance = 5.0\n",
        "        self.cam_yaw, self.cam_pitch, self.cam_roll = 50, -30.0, 0\n",
        "        self.cam_width, self.cam_height = 480, 368\n",
        "        self.cam_up, self.cam_up_axis_idx, self.cam_near_plane, self.cam_far_plane, self.cam_fov = [0, 0, 1], 2, 0.01, 100, 60\n",
        "\n",
        "        # Set up video writer\n",
        "        self.vid = imageio_ffmpeg.write_frames('vid.mp4', (self.cam_width, self.cam_height), fps=30)\n",
        "        self.vid.send(None)  # Seed the video writer with a blank frame\n",
        "\n",
        "    def playVideo(self):\n",
        "        # Create a video player for the generated video\n",
        "        self.mp4 = open('vid.mp4', 'rb').read()\n",
        "        self.data_url = \"data:video/mp4;base64,\" + b64encode(self.mp4).decode()\n",
        "        video = HTML('<video width=480 controls><source src=\"%s\" type=\"video/mp4\"></video>' % self.data_url)\n",
        "        return video\n",
        "\n",
        "    def addFrame(self):\n",
        "        # Capture frame for video\n",
        "        cam_view_matrix = p.computeViewMatrixFromYawPitchRoll(self.cam_target_pos, self.cam_distance, self.cam_yaw, self.cam_pitch, self.cam_roll, self.cam_up_axis_idx)\n",
        "        cam_projection_matrix = p.computeProjectionMatrixFOV(self.cam_fov, self.cam_width / self.cam_height, self.cam_near_plane, self.cam_far_plane)\n",
        "        image = p.getCameraImage(self.cam_width, self.cam_height, cam_view_matrix, cam_projection_matrix)[2][:, :, :3]\n",
        "        self.vid.send(np.ascontiguousarray(image))\n",
        "\n",
        "# Optimized Simulation class for handling the physics simulation"
      ]
    },
    {
      "cell_type": "code",
      "execution_count": 33,
      "metadata": {
        "id": "5JtyXWZjwjr5"
      },
      "outputs": [],
      "source": [
        "class Simulation(Colab):\n",
        "    def __init__(self):\n",
        "        super().__init__()\n",
        "        # Use DIRECT mode for faster simulation without GUI\n",
        "        self.physics_client = p.connect(p.DIRECT)\n",
        "        p.setAdditionalSearchPath(pybullet_data.getDataPath())\n",
        "        p.resetSimulation()\n",
        "        p.setGravity(0, 0, -9.81)\n",
        "\n",
        "        self.env = Environment()\n",
        "        self.agent = Agent()\n",
        "        self.time_step = 1. / 240.\n",
        "\n",
        "        self.loop()\n",
        "\n",
        "    def loop(self):\n",
        "        # Main simulation loop\n",
        "        for t in range(200):\n",
        "            print(f'\\rtimestep {t+1}...', end='')\n",
        "            if t % 8 == 0:  # Capture every 8th frame\n",
        "                self.addFrame()\n",
        "            self.agent.moveJoint(1)\n",
        "            p.stepSimulation()\n",
        "        self.vid.close()"
      ]
    },
    {
      "cell_type": "code",
      "execution_count": 34,
      "metadata": {
        "id": "7J7pzIJuwolx"
      },
      "outputs": [],
      "source": [
        "import pybullet as p\n",
        "import pybullet_data\n",
        "import numpy as np\n",
        "import time\n",
        "\n",
        "class Environment:\n",
        "    def __init__(self):\n",
        "        self.loadEnvironment()\n",
        "\n",
        "    def loadEnvironment(self):\n",
        "        # Set gravity and data path for PyBullet assets\n",
        "        p.setAdditionalSearchPath(pybullet_data.getDataPath())\n",
        "        p.setGravity(0, 0, -9.81)\n",
        "\n",
        "        # Load a plane to represent the field ground\n",
        "        plane_id = p.loadURDF(\"plane.urdf\", basePosition=[0, 0, 0])\n",
        "        p.changeVisualShape(plane_id, -1, rgbaColor=[0.1, 0.5, 0.1, 1])  # Green field color\n",
        "\n",
        "        # Define the field size\n",
        "        field_length = 100  # Length of the field (in meters)\n",
        "        field_width = 60    # Width of the field (in meters)\n",
        "\n",
        "        # Add field boundaries (white lines)\n",
        "        line_thickness = 0.1  # Slightly increase thickness for better visibility\n",
        "\n",
        "        # Create boundary lines\n",
        "        self.add_line([-field_length/2, -field_width/2], [-field_length/2, field_width/2], line_thickness)  # Left sideline\n",
        "        self.add_line([field_length/2, -field_width/2], [field_length/2, field_width/2], line_thickness)    # Right sideline\n",
        "        self.add_line([-field_length/2, field_width/2], [-field_length/2, -field_width/2], line_thickness)   # Bottom goal line\n",
        "        self.add_line([field_length/2, field_width/2], [-field_length/2, field_width/2], line_thickness)    # Top goal line\n",
        "\n",
        "        # Center circle\n",
        "        self.add_circle([0, 0], radius=9.15, line_thickness=line_thickness)  # Standard center circle radius\n",
        "\n",
        "        # Add goals at both ends\n",
        "        self.create_goal([-field_length/2, 0], goal_width=7.32, goal_height=2.44)  # Left goal\n",
        "        self.create_goal([field_length/2, 0], goal_width=7.32, goal_height=2.44)   # Right goal\n",
        "\n",
        "    def add_line(self, start_pos, end_pos, thickness):\n",
        "        # Calculate line length and orientation\n",
        "        length = np.linalg.norm(np.array(end_pos) - np.array(start_pos))\n",
        "        orientation = np.arctan2(end_pos[1] - start_pos[1], end_pos[0] - start_pos[0])\n",
        "\n",
        "        # Create a box shape to represent the line\n",
        "        line_id = p.createCollisionShape(p.GEOM_BOX, halfExtents=[length/2, thickness/2, 0.01])\n",
        "        line_body = p.createMultiBody(baseMass=0,\n",
        "                          baseCollisionShapeIndex=line_id,\n",
        "                          basePosition=[(start_pos[0] + end_pos[0])/2, (start_pos[1] + end_pos[1])/2, 0.01],\n",
        "                          baseOrientation=p.getQuaternionFromEuler([0, 0, orientation]))\n",
        "        p.changeVisualShape(line_body, -1, rgbaColor=[1, 1, 1, 1])  # White line\n",
        "\n",
        "    def add_circle(self, center_pos, radius, line_thickness):\n",
        "        # Create circle using multiple short lines to approximate a circle\n",
        "        num_segments = 18  # Reduced number of segments to simplify rendering\n",
        "        angle_increment = 2 * np.pi / num_segments\n",
        "        for i in range(num_segments):\n",
        "            start_pos = [\n",
        "                center_pos[0] + radius * np.cos(i * angle_increment),\n",
        "                center_pos[1] + radius * np.sin(i * angle_increment)\n",
        "            ]\n",
        "            end_pos = [\n",
        "                center_pos[0] + radius * np.cos((i + 1) * angle_increment),\n",
        "                center_pos[1] + radius * np.sin((i + 1) * angle_increment)\n",
        "            ]\n",
        "            self.add_line(start_pos, end_pos, line_thickness)\n",
        "\n",
        "    def create_goal(self, position, goal_width=7.32, goal_height=2.44):\n",
        "        # Create goal posts and crossbar using box shapes\n",
        "        post_thickness = 0.1\n",
        "\n",
        "        # Left post\n",
        "        p.loadURDF(\"cube.urdf\", basePosition=[position[0], position[1] - goal_width / 2, goal_height / 2], globalScaling=post_thickness)\n",
        "        # Right post\n",
        "        p.loadURDF(\"cube.urdf\", basePosition=[position[0], position[1] + goal_width / 2, goal_height / 2], globalScaling=post_thickness)\n",
        "        # Crossbar\n",
        "        p.loadURDF(\"cube.urdf\", basePosition=[position[0], position[1], goal_height], globalScaling=post_thickness)\n",
        "\n"
      ]
    },
    {
      "cell_type": "code",
      "execution_count": null,
      "metadata": {
        "id": "kv_7Vvai0rDX"
      },
      "outputs": [],
      "source": [
        "\n",
        "class ViewEnvironment:\n",
        "    def __init__(self):\n",
        "        # Connect to PyBullet in GUI mode\n",
        "        self.physics_client = p.connect(p.GUI)\n",
        "        self.env = Environment()  # Initialize the environment\n",
        "\n",
        "    def view(self, duration=10):\n",
        "        # Run the simulation for a shorter duration to view the environment\n",
        "        for _ in range(int(duration * 240)):  # Duration in seconds, assuming 240 steps per second\n",
        "            p.stepSimulation()\n",
        "            # Reduce sleep time to speed up if real-time observation isn't necessary\n",
        "            time.sleep(1. / 480.)  # Run faster than real-time\n",
        "        p.disconnect()\n",
        "\n",
        "\n",
        "# Create and view the environment\n",
        "viewer = ViewEnvironment()\n",
        "viewer.view(duration=5)  # Reduced duration to 5 seconds for quick viewing\n"
      ]
    },
    {
      "cell_type": "code",
      "execution_count": null,
      "metadata": {
        "id": "d60YP9Cpwpf7"
      },
      "outputs": [],
      "source": [
        "# Agent class for controlling the humanoid agent\n",
        "class Agent:\n",
        "    def __init__(self):\n",
        "        self.loadAgent(urdf_file=\"URDFs/humanoid.urdf\", start_pos=[0, 0, 2], start_orientation=[0, 0, 0])\n",
        "\n",
        "    def loadAgent(self, urdf_file, start_pos, start_orientation):\n",
        "        # Load agents and get joint indices\n",
        "        self.humanoid = p.loadURDF(urdf_file, start_pos, p.getQuaternionFromEuler(start_orientation))\n",
        "        self.joint_indices = range(p.getNumJoints(self.humanoid))\n",
        "\n",
        "    def moveJoint(self, joint_index):\n",
        "        # Move agent's joints with random torque\n",
        "        for joint_index in self.joint_indices:\n",
        "            p.setJointMotorControl2(self.humanoid, joint_index, p.TORQUE_CONTROL, force=np.random.uniform(-100, 100))\n",
        "        p.stepSimulation()"
      ]
    },
    {
      "cell_type": "code",
      "execution_count": null,
      "metadata": {
        "id": "d6K8aXzf0uv5"
      },
      "outputs": [],
      "source": [
        "# Create and view the environment\n",
        "viewer = ViewEnvironment()\n",
        "viewer.view(duration=10)  # Set duration to 20 seconds for viewing"
      ]
    },
    {
      "cell_type": "code",
      "execution_count": null,
      "metadata": {
        "id": "Be7ClvrvwsGK"
      },
      "outputs": [],
      "source": [
        "# Initialize and run the simulation\n",
        "# sim = Simulation()\n",
        "# vid = sim.playVideo()\n",
        "# vid"
      ]
    }
  ],
  "metadata": {
    "accelerator": "GPU",
    "colab": {
      "gpuType": "A100",
      "machine_shape": "hm",
      "provenance": []
    },
    "kernelspec": {
      "display_name": "Python 3",
      "name": "python3"
    },
    "language_info": {
      "codemirror_mode": {
        "name": "ipython",
        "version": 3
      },
      "file_extension": ".py",
      "mimetype": "text/x-python",
      "name": "python",
      "nbconvert_exporter": "python",
      "pygments_lexer": "ipython3",
      "version": "3.10.14"
    }
  },
  "nbformat": 4,
  "nbformat_minor": 0
}
